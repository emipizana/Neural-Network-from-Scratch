{
 "cells": [
  {
   "cell_type": "code",
   "execution_count": 6,
   "id": "e1bb67c3",
   "metadata": {},
   "outputs": [],
   "source": [
    "import numpy as np\n",
    "import pandas as pd\n",
    "import matplotlib.pyplot as plt"
   ]
  },
  {
   "cell_type": "code",
   "execution_count": 7,
   "id": "ac562405",
   "metadata": {},
   "outputs": [],
   "source": [
    "from keras.datasets import mnist #Just to import the MNIST data set"
   ]
  },
  {
   "cell_type": "code",
   "execution_count": 8,
   "id": "1799280b",
   "metadata": {},
   "outputs": [],
   "source": [
    "(train_X, train_y), (test_X, test_y) = mnist.load_data()"
   ]
  },
  {
   "cell_type": "code",
   "execution_count": 9,
   "id": "6ac84bd8",
   "metadata": {},
   "outputs": [
    {
     "name": "stdout",
     "output_type": "stream",
     "text": [
      "(60000, 28, 28) (10000, 28, 28) (60000,)\n"
     ]
    }
   ],
   "source": [
    "print(train_X.shape, test_X.shape, train_y.shape) #Images of 28*28 pixels"
   ]
  },
  {
   "cell_type": "code",
   "execution_count": 10,
   "id": "f8851402",
   "metadata": {},
   "outputs": [
    {
     "data": {
      "image/png": "[encoded data removed]",
      "text/plain": [
       "<Figure size 576x576 with 1 Axes>"
      ]
     },
     "metadata": {
      "needs_background": "light"
     },
     "output_type": "display_data"
    }
   ],
   "source": [
    "def plot_image(index):\n",
    "    plt.figure(figsize = (8,8))\n",
    "    plt.imshow(train_X[index,:,:], cmap='gray')\n",
    "    plt.show()\n",
    "\n",
    "plot_image(0)"
   ]
  },
  {
   "cell_type": "code",
   "execution_count": 11,
   "id": "d72c83fc",
   "metadata": {},
   "outputs": [
    {
     "name": "stdout",
     "output_type": "stream",
     "text": [
      "(60000, 784) (10000, 784)\n"
     ]
    }
   ],
   "source": [
    "train_X = train_X.reshape(60000, 28*28)\n",
    "test_X = test_X.reshape(10000, 28*28)\n",
    "print(train_X.shape, test_X.shape)"
   ]
  },
  {
   "cell_type": "code",
   "execution_count": 12,
   "id": "4c579d4d",
   "metadata": {},
   "outputs": [],
   "source": [
    "train_X = (train_X.astype(float)).T /255\n",
    "test_X = (test_X.astype(float)).T /255"
   ]
  },
  {
   "cell_type": "code",
   "execution_count": 13,
   "id": "27c6e76a",
   "metadata": {},
   "outputs": [],
   "source": [
    "#train_X[:,0]"
   ]
  },
  {
   "cell_type": "code",
   "execution_count": 14,
   "id": "dca52cc5",
   "metadata": {},
   "outputs": [
    {
     "name": "stdout",
     "output_type": "stream",
     "text": [
      "(60000,) (784, 60000)\n"
     ]
    }
   ],
   "source": [
    "print(train_y.shape, train_X.shape)"
   ]
  },
  {
   "cell_type": "code",
   "execution_count": 15,
   "id": "ff44d3b6",
   "metadata": {},
   "outputs": [],
   "source": [
    "#Initiallizing weights, random with normal distribution.  \n",
    "def init_param():\n",
    "    W1 = np.random.randn(20, 784)\n",
    "    W2 = np.random.randn(10,20)\n",
    "    B1 = np.random.randn(20, 1)\n",
    "    B2 = np.random.randn(10, 1)\n",
    "    return W1, B1, W2, B2"
   ]
  },
  {
   "cell_type": "code",
   "execution_count": 16,
   "id": "10f78c9a",
   "metadata": {},
   "outputs": [],
   "source": [
    "##Activation functions relu for first hidden layer, second one for the output layer.\n",
    "def relu(X):\n",
    "    return np.maximum(0, X)\n",
    "\n",
    "def relu_der(Z):\n",
    "    return (Z > 0).astype(float)"
   ]
  },
  {
   "cell_type": "code",
   "execution_count": 17,
   "id": "cc2943f6",
   "metadata": {},
   "outputs": [],
   "source": [
    "def forward(W1,B1,W2,B2,X):\n",
    "    #print(X)\n",
    "    Z1 = np.dot(W1,X.reshape(-1, 1)) + B1\n",
    "    #print(Z1)\n",
    "    A1 = relu(Z1)\n",
    "    Z2 = np.dot(W2,A1) + B2\n",
    "    #print(Z2)\n",
    "    A2 = softmax(Z2)\n",
    "    #print(A2)\n",
    "    return Z1, A1, Z2, A2"
   ]
  },
  {
   "cell_type": "code",
   "execution_count": 18,
   "id": "3048e5a1",
   "metadata": {},
   "outputs": [],
   "source": [
    "def softmax(X):\n",
    "    exp_X = np.exp(X) \n",
    "    return exp_X / sum(np.exp(X))\n",
    "\n",
    "def softmax_der(X):\n",
    "    softmax_X = softmax(X)\n",
    "    diag_softmax_X = np.diag(softmax_X)\n",
    "    softmax_derivative = diag_softmax_X - np.outer(softmax_X, softmax_X)\n",
    "    return softmax_derivative\n",
    "#No need for the derivative since it is considered in the backpropagation base_1"
   ]
  },
  {
   "cell_type": "code",
   "execution_count": 19,
   "id": "c46b2823",
   "metadata": {},
   "outputs": [],
   "source": [
    "#Loss function and the derivative Categorical Crossentropy loss, implicit in the backpropagation base_1\n",
    "\n",
    "def categorical_crossentropy_loss(y_true, y_pred):\n",
    "    epsilon = 1e-15\n",
    "    y_pred = np.clip(y_pred, epsilon, 1 - epsilon) # Avoid division by zero\n",
    "    loss = -np.sum(y_true * np.log(y_pred)) / len(y_true)\n",
    "    return loss\n",
    "\n",
    "def cat_cross_loss_der(y_true, y_pred):\n",
    "    epsilon = 1e-15\n",
    "    y_pred = np.clip(y_pred, epsilon, 1 - epsilon)\n",
    "    derivative = -y_true / y_pred\n",
    "    \n",
    "    return derivative"
   ]
  },
  {
   "cell_type": "code",
   "execution_count": 20,
   "id": "af42042e",
   "metadata": {},
   "outputs": [],
   "source": [
    "#Loss function and the derivative Mean square error loss, not used for this problem. \n",
    "\n",
    "def mse(y_true, y_pred):\n",
    "    return np.mean(np.power(y_true-y_pred, 2))\n",
    "\n",
    "def mse_der(y_true, y_pred):\n",
    "    return 2*(y_pred-y_true)/y_true.size"
   ]
  },
  {
   "cell_type": "code",
   "execution_count": 21,
   "id": "b8e9b187",
   "metadata": {},
   "outputs": [],
   "source": [
    "def gradient_descent(W1, B1, W2, B2, dW1, dW2, dB1, dB2, alpha):\n",
    "    W1 = W1 - alpha*dW1\n",
    "    B1 = B1 - alpha*dB1\n",
    "    W2 = W2 - alpha*dW2\n",
    "    B2 = B2 - alpha*dB2\n",
    "    return W1, B1, W2, B2"
   ]
  },
  {
   "cell_type": "code",
   "execution_count": 22,
   "id": "2cab5141",
   "metadata": {},
   "outputs": [],
   "source": [
    "def one_hot(index, num_classes=10):\n",
    "    one_hot_encoded = np.eye(num_classes)[index]\n",
    "    return one_hot_encoded"
   ]
  },
  {
   "cell_type": "code",
   "execution_count": 23,
   "id": "d8801164",
   "metadata": {},
   "outputs": [
    {
     "data": {
      "text/plain": [
       "(10, 1)"
      ]
     },
     "execution_count": 23,
     "metadata": {},
     "output_type": "execute_result"
    }
   ],
   "source": [
    "ejem = one_hot(4)\n",
    "(ejem.reshape(-1, 1)).shape"
   ]
  },
  {
   "cell_type": "code",
   "execution_count": 24,
   "id": "b2c18a3e",
   "metadata": {},
   "outputs": [],
   "source": [
    "def back_prop(Z2, A2, Z1, A1, W2, B2, X, Y):\n",
    "    Y_vec = one_hot(Y)\n",
    "    base_1 = A2 - Y_vec.reshape(-1, 1) #Z2 - Y\n",
    "    dW2 = np.dot(base_1,A1.T) #base_1, Z1.T\n",
    "    dB2 = base_1\n",
    "    \n",
    "    base_2 = np.dot(W2.T,base_1)*relu_der(Z1)\n",
    "    dW1 = np.dot(base_2,X.reshape(-1, 1).T)\n",
    "    dB1 = base_2\n",
    "    return dW1, dB1, dW2, dB2\n",
    "    "
   ]
  },
  {
   "cell_type": "code",
   "execution_count": 25,
   "id": "1758f8db",
   "metadata": {},
   "outputs": [],
   "source": [
    "def get_pred(X, W1, B1, W2, B2):\n",
    "    Z1, A1, Z2, A2 = forward(W1,B1,W2,B2,X)\n",
    "    #print(A2)\n",
    "    return np.argmax(A2, 0)"
   ]
  },
  {
   "cell_type": "code",
   "execution_count": 26,
   "id": "5fb6f3b4",
   "metadata": {},
   "outputs": [],
   "source": [
    "def get_acc(pred, target):\n",
    "    return np.sum(pred == target)/target.size"
   ]
  },
  {
   "cell_type": "code",
   "execution_count": 70,
   "id": "2a3c3357",
   "metadata": {},
   "outputs": [],
   "source": [
    "def train(X, Y, epochs, alpha):\n",
    "    _,m = train_X.shape\n",
    "    W1, B1, W2, B2 = init_param()\n",
    "    for i in range(epochs):\n",
    "        k = 0\n",
    "        pred = []\n",
    "        for j in range(m):\n",
    "            Z1, A1, Z2, A2 = forward(W1, B1, W2, B2, X[:,j])\n",
    "            dW1, dB1, dW2, dB2 = back_prop(Z2, A2, Z1, A1, W2, B2, X[:,j], Y[j])\n",
    "            W1, B1, W2, B2 = gradient_descent(W1, B1, W2, B2, dW1, dW2, dB1, dB2, alpha)\n",
    "            prediction = get_pred(X[:,j], W1, B1, W2, B2)[0]\n",
    "            pred.append(prediction)\n",
    "        accuracy = get_acc(pred, Y)\n",
    "        if (i % 2 == 0):\n",
    "            print(\"Iteration: \", i)\n",
    "            print(\"Accuracy: \", accuracy)\n",
    "            print(\"First 10 predictions: \", pred[0:10])\n",
    "    return W1, B1, W2, B2"
   ]
  },
  {
   "cell_type": "code",
   "execution_count": 71,
   "id": "c9564169",
   "metadata": {},
   "outputs": [
    {
     "name": "stdout",
     "output_type": "stream",
     "text": [
      "Iteration:  0\n",
      "Accuracy:  0.8141833333333334\n",
      "First 10 predictions:  [1, 0, 1, 0, 0, 2, 1, 3, 7, 2]\n",
      "Iteration:  2\n",
      "Accuracy:  0.9431166666666667\n",
      "First 10 predictions:  [5, 0, 4, 1, 9, 2, 1, 3, 1, 4]\n",
      "Iteration:  4\n",
      "Accuracy:  0.9578666666666666\n",
      "First 10 predictions:  [5, 0, 4, 1, 9, 2, 1, 3, 1, 4]\n",
      "Iteration:  6\n",
      "Accuracy:  0.9638333333333333\n",
      "First 10 predictions:  [5, 0, 4, 1, 9, 2, 1, 3, 1, 4]\n",
      "Iteration:  8\n",
      "Accuracy:  0.9673166666666667\n",
      "First 10 predictions:  [5, 0, 4, 1, 9, 2, 1, 3, 1, 4]\n"
     ]
    }
   ],
   "source": [
    "W1, B1, W2, B2 = train(train_X, train_y, 10, 0.01)"
   ]
  },
  {
   "cell_type": "code",
   "execution_count": 73,
   "id": "6d9fdafa",
   "metadata": {},
   "outputs": [
    {
     "name": "stdout",
     "output_type": "stream",
     "text": [
      "<class 'numpy.ndarray'> [0]\n"
     ]
    }
   ],
   "source": [
    "#Prediction Example\n",
    "prediction = get_pred(train_X[:,1],W1, B1, W2, B2)\n",
    "print(type(prediction), prediction)"
   ]
  },
  {
   "cell_type": "code",
   "execution_count": 74,
   "id": "6f0c617d",
   "metadata": {},
   "outputs": [],
   "source": [
    "final_pred = []\n",
    "for i in range(len(train_y)):\n",
    "    final_pred.append(get_pred(train_X[:,i],W1,B1,W2,B2)[0])\n",
    "\n",
    "accuracy = get_acc(final_pred, train_y)"
   ]
  },
  {
   "cell_type": "code",
   "execution_count": 75,
   "id": "a1d77e53",
   "metadata": {},
   "outputs": [
    {
     "name": "stdout",
     "output_type": "stream",
     "text": [
      "Final accuracy on train data:  0.9147166666666666\n"
     ]
    }
   ],
   "source": [
    "print(\"Final accuracy on train data: \", accuracy)"
   ]
  },
  {
   "cell_type": "code",
   "execution_count": 76,
   "id": "5944eab0",
   "metadata": {},
   "outputs": [
    {
     "name": "stdout",
     "output_type": "stream",
     "text": [
      "60000\n"
     ]
    }
   ],
   "source": [
    "final_pred[0:20]\n",
    "print(len(train_y))"
   ]
  },
  {
   "cell_type": "code",
   "execution_count": 77,
   "id": "c634810c",
   "metadata": {},
   "outputs": [],
   "source": [
    "#Predictions for Test Data\n",
    "final_pred_test = []\n",
    "for i in range(len(test_y)):\n",
    "    final_pred_test.append(get_pred(test_X[:,i],W1,B1,W2,B2)[0])\n",
    "\n",
    "accuracy_test = get_acc(final_pred_test, test_y)"
   ]
  },
  {
   "cell_type": "code",
   "execution_count": 78,
   "id": "e5e7e9db",
   "metadata": {},
   "outputs": [
    {
     "name": "stdout",
     "output_type": "stream",
     "text": [
      "Final accuracy on test data:  0.9134\n"
     ]
    }
   ],
   "source": [
    "print(\"Final accuracy on test data: \", accuracy_test)"
   ]
  },
  {
   "cell_type": "code",
   "execution_count": 83,
   "id": "111390e4",
   "metadata": {},
   "outputs": [],
   "source": [
    "def plot_pred(index):\n",
    "    image = (test_X[:,index].reshape((28,28)))*255\n",
    "    print(\"Prediction: \", final_pred_test[index])\n",
    "    print(\"Target: \", test_y[index])\n",
    "    #image\n",
    "    plt.figure(figsize = (8,8))\n",
    "    plt.imshow(image, cmap='gray')\n",
    "    plt.show()\n",
    "    "
   ]
  },
  {
   "cell_type": "code",
   "execution_count": 84,
   "id": "1e7ebcb4",
   "metadata": {},
   "outputs": [
    {
     "name": "stdout",
     "output_type": "stream",
     "text": [
      "Prediction:  7\n",
      "Target:  7\n"
     ]
    },
    {
     "data": {
      "image/png": "[encoded data removed]",
      "text/plain": [
       "<Figure size 576x576 with 1 Axes>"
      ]
     },
     "metadata": {
      "needs_background": "light"
     },
     "output_type": "display_data"
    }
   ],
   "source": [
    "plot_pred(0)"
   ]
  },
  {
   "cell_type": "code",
   "execution_count": 42,
   "id": "5455cf7f",
   "metadata": {},
   "outputs": [
    {
     "name": "stdout",
     "output_type": "stream",
     "text": [
      "Prediction:  8\n",
      "Target:  3\n"
     ]
    },
    {
     "data": {
      "image/png": "[encoded data removed]",
      "text/plain": [
       "<Figure size 576x576 with 1 Axes>"
      ]
     },
     "metadata": {
      "needs_background": "light"
     },
     "output_type": "display_data"
    },
    {
     "name": "stdout",
     "output_type": "stream",
     "text": [
      "Prediction:  6\n",
      "Target:  4\n"
     ]
    },
    {
     "data": {
      "image/png": "[encoded data removed]",
      "text/plain": [
       "<Figure size 576x576 with 1 Axes>"
      ]
     },
     "metadata": {
      "needs_background": "light"
     },
     "output_type": "display_data"
    },
    {
     "name": "stdout",
     "output_type": "stream",
     "text": [
      "Prediction:  3\n",
      "Target:  2\n"
     ]
    },
    {
     "data": {
      "image/png": "[encoded data removed]",
      "text/plain": [
       "<Figure size 576x576 with 1 Axes>"
      ]
     },
     "metadata": {
      "needs_background": "light"
     },
     "output_type": "display_data"
    }
   ],
   "source": [
    "wrong_pred = np.where(final_pred_test != test_y)[0]\n",
    "for i in range(3):\n",
    "    plot_pred(wrong_pred[i])"
   ]
  },
  {
   "cell_type": "code",
   "execution_count": 44,
   "id": "855f0011",
   "metadata": {},
   "outputs": [],
   "source": [
    "#Reference: \n",
    "#Aflak, O. (2018, November 14). Neural Network from scratch in Python. Towards Data Science. https://towardsdatascience.com/math-neural-network-from-scratch-in-python-d6da9f29ce65"
   ]
  },
  {
   "cell_type": "code",
   "execution_count": 45,
   "id": "338625c1",
   "metadata": {},
   "outputs": [],
   "source": [
    "##Neural Network using Keras model "
   ]
  },
  {
   "cell_type": "code",
   "execution_count": 46,
   "id": "0bc1a1f2",
   "metadata": {},
   "outputs": [],
   "source": [
    "import tensorflow as tf\n",
    "from tensorflow.keras.models import Sequential\n",
    "from tensorflow.keras.layers import Dense\n",
    "from tensorflow.keras.utils import to_categorical"
   ]
  },
  {
   "cell_type": "code",
   "execution_count": 47,
   "id": "100c7640",
   "metadata": {},
   "outputs": [
    {
     "name": "stdout",
     "output_type": "stream",
     "text": [
      "(10000, 10)\n"
     ]
    }
   ],
   "source": [
    "(train_images, train_labels), (test_images, test_labels) = mnist.load_data()\n",
    "train_images_flat = train_images.reshape((train_images.shape[0], -1)) / 255.0\n",
    "test_images_flat = test_images.reshape((test_images.shape[0], -1)) / 255.0\n",
    "\n",
    "train_labels = to_categorical(train_labels)\n",
    "test_labels = to_categorical(test_labels)\n",
    "print(test_labels.shape)"
   ]
  },
  {
   "cell_type": "code",
   "execution_count": 48,
   "id": "97251b5e",
   "metadata": {},
   "outputs": [
    {
     "name": "stdout",
     "output_type": "stream",
     "text": [
      "Model: \"sequential\"\n",
      "_________________________________________________________________\n",
      " Layer (type)                Output Shape              Param #   \n",
      "=================================================================\n",
      " dense (Dense)               (None, 784)               615440    \n",
      "                                                                 \n",
      " dense_1 (Dense)             (None, 20)                15700     \n",
      "                                                                 \n",
      " dense_2 (Dense)             (None, 10)                210       \n",
      "                                                                 \n",
      "=================================================================\n",
      "Total params: 631,350\n",
      "Trainable params: 631,350\n",
      "Non-trainable params: 0\n",
      "_________________________________________________________________\n"
     ]
    }
   ],
   "source": [
    "#Almost same NN but with categorical_crossentropy cost function, and adam optimizer\n",
    "model = Sequential()\n",
    "model.add(Dense(784, input_shape=(784,), activation='relu'))\n",
    "model.add(Dense(20, activation='relu'))\n",
    "model.add(Dense(10, activation='softmax'))\n",
    "model.compile(optimizer='adam', loss='categorical_crossentropy', metrics=['accuracy'])\n",
    "model.summary()"
   ]
  },
  {
   "cell_type": "code",
   "execution_count": 49,
   "id": "ac1d1951",
   "metadata": {},
   "outputs": [
    {
     "name": "stdout",
     "output_type": "stream",
     "text": [
      "Epoch 1/10\n",
      "1500/1500 [==============================] - 9s 6ms/step - loss: 0.2227 - accuracy: 0.9354 - val_loss: 0.1259 - val_accuracy: 0.9620\n",
      "Epoch 2/10\n",
      "1500/1500 [==============================] - 11s 7ms/step - loss: 0.0906 - accuracy: 0.9719 - val_loss: 0.1038 - val_accuracy: 0.9693\n",
      "Epoch 3/10\n",
      "1500/1500 [==============================] - 9s 6ms/step - loss: 0.0612 - accuracy: 0.9805 - val_loss: 0.0914 - val_accuracy: 0.9733\n",
      "Epoch 4/10\n",
      "1500/1500 [==============================] - 10s 7ms/step - loss: 0.0427 - accuracy: 0.9865 - val_loss: 0.0828 - val_accuracy: 0.9762\n",
      "Epoch 5/10\n",
      "1500/1500 [==============================] - 10s 7ms/step - loss: 0.0330 - accuracy: 0.9896 - val_loss: 0.0961 - val_accuracy: 0.9750\n",
      "Epoch 6/10\n",
      "1500/1500 [==============================] - 8s 6ms/step - loss: 0.0269 - accuracy: 0.9914 - val_loss: 0.1056 - val_accuracy: 0.9749\n",
      "Epoch 7/10\n",
      "1500/1500 [==============================] - 10s 7ms/step - loss: 0.0213 - accuracy: 0.9927 - val_loss: 0.0990 - val_accuracy: 0.9764\n",
      "Epoch 8/10\n",
      "1500/1500 [==============================] - 9s 6ms/step - loss: 0.0199 - accuracy: 0.9929 - val_loss: 0.1158 - val_accuracy: 0.9755\n",
      "Epoch 9/10\n",
      "1500/1500 [==============================] - 10s 7ms/step - loss: 0.0169 - accuracy: 0.9946 - val_loss: 0.0981 - val_accuracy: 0.9789\n",
      "Epoch 10/10\n",
      "1500/1500 [==============================] - 10s 7ms/step - loss: 0.0134 - accuracy: 0.9958 - val_loss: 0.1186 - val_accuracy: 0.9755\n",
      "1875/1875 [==============================] - 6s 3ms/step - loss: 0.0324 - accuracy: 0.9923\n"
     ]
    }
   ],
   "source": [
    "epochs = 10\n",
    "batch_size = 32\n",
    "history = model.fit(train_images_flat, train_labels, epochs=epochs, batch_size=batch_size, validation_split=0.2)\n",
    "train_loss, train_accuracy = model.evaluate(train_images_flat, train_labels)"
   ]
  },
  {
   "cell_type": "code",
   "execution_count": 50,
   "id": "a78d47ab",
   "metadata": {},
   "outputs": [
    {
     "data": {
      "image/png": "[encoded data removed]",
      "text/plain": [
       "<Figure size 432x288 with 1 Axes>"
      ]
     },
     "metadata": {
      "needs_background": "light"
     },
     "output_type": "display_data"
    }
   ],
   "source": [
    "plt.plot(history.history['accuracy'], label='Training Accuracy')\n",
    "plt.plot(history.history['val_accuracy'], label='Validation Accuracy')\n",
    "plt.xlabel('Epoch')\n",
    "plt.ylabel('Accuracy')\n",
    "plt.legend()\n",
    "plt.show()"
   ]
  },
  {
   "cell_type": "code",
   "execution_count": 52,
   "id": "a030be91",
   "metadata": {},
   "outputs": [
    {
     "name": "stdout",
     "output_type": "stream",
     "text": [
      "313/313 [==============================] - 1s 3ms/step\n"
     ]
    }
   ],
   "source": [
    "##Final accuracy on test data\n",
    "predictions_keras_model = model.predict(test_images_flat)\n",
    "accuracy_keras_model = np.mean(np.argmax(predictions_keras_model, axis=1) == np.argmax(test_labels, axis=1))"
   ]
  },
  {
   "cell_type": "code",
   "execution_count": 56,
   "id": "d27fb13f",
   "metadata": {},
   "outputs": [
    {
     "name": "stdout",
     "output_type": "stream",
     "text": [
      "Prediction Keras model on test data:  0.9786\n"
     ]
    }
   ],
   "source": [
    "print(\"Prediction Keras model on test data: \", accuracy_keras_model)"
   ]
  },
  {
   "cell_type": "code",
   "execution_count": null,
   "id": "ba442a97",
   "metadata": {},
   "outputs": [],
   "source": []
  }
 ],
 "metadata": {
  "kernelspec": {
   "display_name": "Python 3 (ipykernel)",
   "language": "python",
   "name": "python3"
  },
  "language_info": {
   "codemirror_mode": {
    "name": "ipython",
    "version": 3
   },
   "file_extension": ".py",
   "mimetype": "text/x-python",
   "name": "python",
   "nbconvert_exporter": "python",
   "pygments_lexer": "ipython3",
   "version": "3.9.12"
  }
 },
 "nbformat": 4,
 "nbformat_minor": 5
}
